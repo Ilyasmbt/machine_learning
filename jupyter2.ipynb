{
 "cells": [
  {
   "cell_type": "code",
   "execution_count": 11,
   "id": "d4055c16-3444-426c-8b8e-336fe91cd48c",
   "metadata": {},
   "outputs": [],
   "source": [
    "#import libraries"
   ]
  },
  {
   "cell_type": "code",
   "execution_count": 1,
   "id": "5a7ca3db-baa9-4445-8a54-13cb6c7cf6cf",
   "metadata": {},
   "outputs": [],
   "source": [
    "import numpy as np\n",
    "import matplotlib.pyplot as plt\n",
    "import seaborn as sns\n",
    "import pandas as pd"
   ]
  },
  {
   "cell_type": "code",
   "execution_count": 13,
   "id": "4087f0ff-ccd4-404e-9bb0-aa19bf491efa",
   "metadata": {},
   "outputs": [],
   "source": [
    "#load and preview the dataset"
   ]
  },
  {
   "cell_type": "code",
   "execution_count": 3,
   "id": "8cec99b3-bd30-49e8-b947-7fa123a496a8",
   "metadata": {},
   "outputs": [],
   "source": [
    "data=pd.read_csv(\"uncleaned_sample_customer_data.csv\")"
   ]
  },
  {
   "cell_type": "code",
   "execution_count": 5,
   "id": "2cc2cdd5-b31b-4b6e-8f13-e71b6498ba22",
   "metadata": {},
   "outputs": [
    {
     "data": {
      "text/html": [
       "<div>\n",
       "<style scoped>\n",
       "    .dataframe tbody tr th:only-of-type {\n",
       "        vertical-align: middle;\n",
       "    }\n",
       "\n",
       "    .dataframe tbody tr th {\n",
       "        vertical-align: top;\n",
       "    }\n",
       "\n",
       "    .dataframe thead th {\n",
       "        text-align: right;\n",
       "    }\n",
       "</style>\n",
       "<table border=\"1\" class=\"dataframe\">\n",
       "  <thead>\n",
       "    <tr style=\"text-align: right;\">\n",
       "      <th></th>\n",
       "      <th>Customer_ID</th>\n",
       "      <th>Age</th>\n",
       "      <th>Gender</th>\n",
       "      <th>Product_Category</th>\n",
       "      <th>Purchase_Amount</th>\n",
       "      <th>Purchase_Date</th>\n",
       "    </tr>\n",
       "  </thead>\n",
       "  <tbody>\n",
       "    <tr>\n",
       "      <th>0</th>\n",
       "      <td>1</td>\n",
       "      <td>56</td>\n",
       "      <td>F</td>\n",
       "      <td>Books</td>\n",
       "      <td>111.94</td>\n",
       "      <td>2023-01-01</td>\n",
       "    </tr>\n",
       "    <tr>\n",
       "      <th>1</th>\n",
       "      <td>2</td>\n",
       "      <td>46</td>\n",
       "      <td>nan</td>\n",
       "      <td>Books</td>\n",
       "      <td>947.98</td>\n",
       "      <td>2023-01-08</td>\n",
       "    </tr>\n",
       "    <tr>\n",
       "      <th>2</th>\n",
       "      <td>3</td>\n",
       "      <td>32</td>\n",
       "      <td>F</td>\n",
       "      <td>nan</td>\n",
       "      <td>606.96</td>\n",
       "      <td>2023-01-15</td>\n",
       "    </tr>\n",
       "    <tr>\n",
       "      <th>3</th>\n",
       "      <td>4</td>\n",
       "      <td>60</td>\n",
       "      <td>F</td>\n",
       "      <td>Clothing</td>\n",
       "      <td>446.87</td>\n",
       "      <td>2023-01-22</td>\n",
       "    </tr>\n",
       "    <tr>\n",
       "      <th>4</th>\n",
       "      <td>5</td>\n",
       "      <td>25</td>\n",
       "      <td>F</td>\n",
       "      <td>Clothing</td>\n",
       "      <td>114.37</td>\n",
       "      <td>nan</td>\n",
       "    </tr>\n",
       "  </tbody>\n",
       "</table>\n",
       "</div>"
      ],
      "text/plain": [
       "  Customer_ID  Age Gender Product_Category  Purchase_Amount Purchase_Date\n",
       "0          1    56     F            Books            111.94   2023-01-01 \n",
       "1          2    46   nan            Books            947.98   2023-01-08 \n",
       "2          3    32     F              nan            606.96   2023-01-15 \n",
       "3          4    60     F         Clothing            446.87   2023-01-22 \n",
       "4          5    25     F         Clothing            114.37          nan "
      ]
     },
     "execution_count": 5,
     "metadata": {},
     "output_type": "execute_result"
    }
   ],
   "source": [
    "data.head()"
   ]
  },
  {
   "cell_type": "code",
   "execution_count": 7,
   "id": "cb79c507-f26e-46bb-9483-08878d7fafb8",
   "metadata": {},
   "outputs": [
    {
     "data": {
      "text/plain": [
       "(25, 6)"
      ]
     },
     "execution_count": 7,
     "metadata": {},
     "output_type": "execute_result"
    }
   ],
   "source": [
    "data.shape"
   ]
  },
  {
   "cell_type": "code",
   "execution_count": 15,
   "id": "43c864a8-117d-457d-9f8e-5290aa369a97",
   "metadata": {},
   "outputs": [
    {
     "data": {
      "text/plain": [
       "array(['1 ', '2 ', '3 ', '4 ', '5 ', '6 ', '7 ', '8 ', '9 ', '10 ', '11 ',\n",
       "       '12 ', '13 ', '14 ', 'Unknown ', '16 ', '17 ', '18 ', '19 ', '20 '],\n",
       "      dtype=object)"
      ]
     },
     "execution_count": 15,
     "metadata": {},
     "output_type": "execute_result"
    }
   ],
   "source": [
    "data['Customer_ID'].unique()"
   ]
  },
  {
   "cell_type": "code",
   "execution_count": 17,
   "id": "2e0f470b-84bf-4f5a-b941-60917d2ad348",
   "metadata": {},
   "outputs": [],
   "source": [
    "#display basic info about the dataset\n"
   ]
  },
  {
   "cell_type": "code",
   "execution_count": 19,
   "id": "c5b7a49a-7c5a-4104-bd9f-d09c39d9691a",
   "metadata": {},
   "outputs": [
    {
     "data": {
      "text/plain": [
       "<bound method DataFrame.info of    Customer_ID  Age Gender Product_Category  Purchase_Amount Purchase_Date\n",
       "0           1    56     F            Books            111.94   2023-01-01 \n",
       "1           2    46   nan            Books            947.98   2023-01-08 \n",
       "2           3    32     F              nan            606.96   2023-01-15 \n",
       "3           4    60     F         Clothing            446.87   2023-01-22 \n",
       "4           5    25     F         Clothing            114.37          nan \n",
       "5           6    38     M   Home & Kitchen            307.80   2023-02-05 \n",
       "6           7    56     M         Clothing            316.92   2023-02-12 \n",
       "7           8    36     F   Home & Kitchen            714.94          nan \n",
       "8           9    40     F            Books            649.00   2023-02-26 \n",
       "9          10    28     F   Home & Kitchen            849.88   2023-03-05 \n",
       "10         11    28     M            Books            256.03   2023-03-12 \n",
       "11         12    41     F            Books            451.95   2023-03-19 \n",
       "12         13    53     M      Electronics            264.01   2023-03-26 \n",
       "13         14    57     M   Home & Kitchen            779.83   2023-04-02 \n",
       "14    Unknown    41     M      Electronics            482.64   2023-04-09 \n",
       "15         16    20     M   Home & Kitchen            287.15   2023-04-16 \n",
       "16         17    39   nan   Home & Kitchen            610.93   2023-04-23 \n",
       "17         18    19     F              nan            128.18   2023-04-30 \n",
       "18         19    41     F      Electronics            858.06   2023-05-07 \n",
       "19         20    61     F   Home & Kitchen            504.78   2023-05-14 \n",
       "20         19    41     F      Electronics            858.06   2023-05-07 \n",
       "21          3    32     F              nan            606.96   2023-01-15 \n",
       "22          9    40     F            Books            649.00   2023-02-26 \n",
       "23          5    25     F         Clothing            114.37          nan \n",
       "24         18    19     F              nan            128.18   2023-04-30 >"
      ]
     },
     "execution_count": 19,
     "metadata": {},
     "output_type": "execute_result"
    }
   ],
   "source": [
    "data.info"
   ]
  },
  {
   "cell_type": "code",
   "execution_count": 25,
   "id": "09df1491-2f51-4484-b403-70247abcf4a2",
   "metadata": {},
   "outputs": [],
   "source": [
    "# check for data types"
   ]
  },
  {
   "cell_type": "code",
   "execution_count": 27,
   "id": "b1c824d2-e9fd-48b1-b3a9-a9084c999cb1",
   "metadata": {},
   "outputs": [
    {
     "data": {
      "text/plain": [
       "Customer_ID          object\n",
       "Age                   int64\n",
       "Gender               object\n",
       "Product_Category     object\n",
       "Purchase_Amount     float64\n",
       "Purchase_Date        object\n",
       "dtype: object"
      ]
     },
     "execution_count": 27,
     "metadata": {},
     "output_type": "execute_result"
    }
   ],
   "source": [
    "data.dtypes"
   ]
  },
  {
   "cell_type": "code",
   "execution_count": 29,
   "id": "99fc7e1e-8005-4eea-bf97-c487e3dd3d2a",
   "metadata": {},
   "outputs": [],
   "source": [
    "#convert data types if necessary\n"
   ]
  },
  {
   "cell_type": "code",
   "execution_count": 33,
   "id": "03440ff9-ac37-4710-b830-aa7b8de85eb0",
   "metadata": {},
   "outputs": [],
   "source": [
    "data['Product_Category']=data['Product_Category'].astype('string')\n",
    "data['Gender']=data['Gender'].astype('string')"
   ]
  },
  {
   "cell_type": "code",
   "execution_count": null,
   "id": "69551ff3-fb19-412a-9afc-37312dc52c96",
   "metadata": {},
   "outputs": [],
   "source": []
  }
 ],
 "metadata": {
  "kernelspec": {
   "display_name": "Python [conda env:base] *",
   "language": "python",
   "name": "conda-base-py"
  },
  "language_info": {
   "codemirror_mode": {
    "name": "ipython",
    "version": 3
   },
   "file_extension": ".py",
   "mimetype": "text/x-python",
   "name": "python",
   "nbconvert_exporter": "python",
   "pygments_lexer": "ipython3",
   "version": "3.12.7"
  }
 },
 "nbformat": 4,
 "nbformat_minor": 5
}
