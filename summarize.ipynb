{
 "cells": [
  {
   "cell_type": "code",
   "execution_count": 3,
   "id": "59e406b9-3e13-4110-85d0-5189173e2e44",
   "metadata": {},
   "outputs": [
    {
     "ename": "IndentationError",
     "evalue": "unexpected indent (2692046765.py, line 4)",
     "output_type": "error",
     "traceback": [
      "\u001b[1;36m  Cell \u001b[1;32mIn[3], line 4\u001b[1;36m\u001b[0m\n\u001b[1;33m    print(\"✅ Dataset Shape:\", dataset.shape)\u001b[0m\n\u001b[1;37m    ^\u001b[0m\n\u001b[1;31mIndentationError\u001b[0m\u001b[1;31m:\u001b[0m unexpected indent\n"
     ]
    }
   ],
   "source": [
    "import pandas as pd\n",
    "dataset=pd.read_csv(\"airports.csv\")\n",
    "\n",
    "    print(\"✅ Dataset Shape:\", dataset.shape)\n",
    "    print(\"\\n📊 First 5 Rows:\\n\", dataset.head())\n",
    "    print(\"\\n📁 Column Info:\")\n",
    "    print(dataset.info())\n",
    "    print(\"\\n📈 Statistical Summary:\\n\", dataset.describe())\n",
    "    print(\"\\n🧩 Missing Values:\\n\", dataset.isnull().sum())\n",
    "    print(\"\\n🔍 Unique Values Per Column:\\n\", dataset.nunique())\n"
   ]
  },
  {
   "cell_type": "code",
   "execution_count": null,
   "id": "7b5f1000-736c-419a-8572-362f3295c2f6",
   "metadata": {},
   "outputs": [],
   "source": []
  }
 ],
 "metadata": {
  "kernelspec": {
   "display_name": "Python [conda env:base] *",
   "language": "python",
   "name": "conda-base-py"
  },
  "language_info": {
   "codemirror_mode": {
    "name": "ipython",
    "version": 3
   },
   "file_extension": ".py",
   "mimetype": "text/x-python",
   "name": "python",
   "nbconvert_exporter": "python",
   "pygments_lexer": "ipython3",
   "version": "3.12.7"
  }
 },
 "nbformat": 4,
 "nbformat_minor": 5
}
