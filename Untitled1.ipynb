{
 "cells": [
  {
   "cell_type": "markdown",
   "id": "6567694e-7d13-4383-8db6-79f2de00838d",
   "metadata": {},
   "source": [
    "### import libraries"
   ]
  },
  {
   "cell_type": "code",
   "execution_count": 1,
   "id": "80317dfc-915a-4dbf-9193-98fa24f3689a",
   "metadata": {},
   "outputs": [],
   "source": [
    "import numpy as np\n",
    "import pandas as pd\n",
    "import matplotlib.pyplot as plt\n",
    "import seaborn as sns"
   ]
  },
  {
   "cell_type": "markdown",
   "id": "c9baa2d1-1f15-49e1-a070-9fba5347a478",
   "metadata": {},
   "source": [
    "### load and preview the dataset"
   ]
  },
  {
   "cell_type": "code",
   "execution_count": 2,
   "id": "e5a0fb99-fd08-4ad1-ada7-b0935895564e",
   "metadata": {},
   "outputs": [],
   "source": [
    "data=pd.read_csv(\"uncleaned_sample_customer_data.csv\")"
   ]
  },
  {
   "cell_type": "code",
   "execution_count": 3,
   "id": "678d0459-f986-4ffe-921a-80a4717aca5a",
   "metadata": {},
   "outputs": [
    {
     "data": {
      "text/html": [
       "<div>\n",
       "<style scoped>\n",
       "    .dataframe tbody tr th:only-of-type {\n",
       "        vertical-align: middle;\n",
       "    }\n",
       "\n",
       "    .dataframe tbody tr th {\n",
       "        vertical-align: top;\n",
       "    }\n",
       "\n",
       "    .dataframe thead th {\n",
       "        text-align: right;\n",
       "    }\n",
       "</style>\n",
       "<table border=\"1\" class=\"dataframe\">\n",
       "  <thead>\n",
       "    <tr style=\"text-align: right;\">\n",
       "      <th></th>\n",
       "      <th>Customer_ID</th>\n",
       "      <th>Age</th>\n",
       "      <th>Gender</th>\n",
       "      <th>Product_Category</th>\n",
       "      <th>Purchase_Amount</th>\n",
       "      <th>Purchase_Date</th>\n",
       "    </tr>\n",
       "  </thead>\n",
       "  <tbody>\n",
       "    <tr>\n",
       "      <th>0</th>\n",
       "      <td>1</td>\n",
       "      <td>56</td>\n",
       "      <td>F</td>\n",
       "      <td>Books</td>\n",
       "      <td>111.94</td>\n",
       "      <td>2023-01-01</td>\n",
       "    </tr>\n",
       "    <tr>\n",
       "      <th>1</th>\n",
       "      <td>2</td>\n",
       "      <td>46</td>\n",
       "      <td>nan</td>\n",
       "      <td>Books</td>\n",
       "      <td>947.98</td>\n",
       "      <td>2023-01-08</td>\n",
       "    </tr>\n",
       "    <tr>\n",
       "      <th>2</th>\n",
       "      <td>3</td>\n",
       "      <td>32</td>\n",
       "      <td>F</td>\n",
       "      <td>nan</td>\n",
       "      <td>606.96</td>\n",
       "      <td>2023-01-15</td>\n",
       "    </tr>\n",
       "    <tr>\n",
       "      <th>3</th>\n",
       "      <td>4</td>\n",
       "      <td>60</td>\n",
       "      <td>F</td>\n",
       "      <td>Clothing</td>\n",
       "      <td>446.87</td>\n",
       "      <td>2023-01-22</td>\n",
       "    </tr>\n",
       "    <tr>\n",
       "      <th>4</th>\n",
       "      <td>5</td>\n",
       "      <td>25</td>\n",
       "      <td>F</td>\n",
       "      <td>Clothing</td>\n",
       "      <td>114.37</td>\n",
       "      <td>nan</td>\n",
       "    </tr>\n",
       "  </tbody>\n",
       "</table>\n",
       "</div>"
      ],
      "text/plain": [
       "  Customer_ID  Age Gender Product_Category  Purchase_Amount Purchase_Date\n",
       "0          1    56     F            Books            111.94   2023-01-01 \n",
       "1          2    46   nan            Books            947.98   2023-01-08 \n",
       "2          3    32     F              nan            606.96   2023-01-15 \n",
       "3          4    60     F         Clothing            446.87   2023-01-22 \n",
       "4          5    25     F         Clothing            114.37          nan "
      ]
     },
     "execution_count": 3,
     "metadata": {},
     "output_type": "execute_result"
    }
   ],
   "source": [
    "data.head()"
   ]
  },
  {
   "cell_type": "code",
   "execution_count": 4,
   "id": "5f8fb5a6-7658-4b88-a9ce-317d3ab824da",
   "metadata": {},
   "outputs": [
    {
     "data": {
      "text/html": [
       "<div>\n",
       "<style scoped>\n",
       "    .dataframe tbody tr th:only-of-type {\n",
       "        vertical-align: middle;\n",
       "    }\n",
       "\n",
       "    .dataframe tbody tr th {\n",
       "        vertical-align: top;\n",
       "    }\n",
       "\n",
       "    .dataframe thead th {\n",
       "        text-align: right;\n",
       "    }\n",
       "</style>\n",
       "<table border=\"1\" class=\"dataframe\">\n",
       "  <thead>\n",
       "    <tr style=\"text-align: right;\">\n",
       "      <th></th>\n",
       "      <th>Customer_ID</th>\n",
       "      <th>Age</th>\n",
       "      <th>Gender</th>\n",
       "      <th>Product_Category</th>\n",
       "      <th>Purchase_Amount</th>\n",
       "      <th>Purchase_Date</th>\n",
       "    </tr>\n",
       "  </thead>\n",
       "  <tbody>\n",
       "    <tr>\n",
       "      <th>20</th>\n",
       "      <td>19</td>\n",
       "      <td>41</td>\n",
       "      <td>F</td>\n",
       "      <td>Electronics</td>\n",
       "      <td>858.06</td>\n",
       "      <td>2023-05-07</td>\n",
       "    </tr>\n",
       "    <tr>\n",
       "      <th>21</th>\n",
       "      <td>3</td>\n",
       "      <td>32</td>\n",
       "      <td>F</td>\n",
       "      <td>nan</td>\n",
       "      <td>606.96</td>\n",
       "      <td>2023-01-15</td>\n",
       "    </tr>\n",
       "    <tr>\n",
       "      <th>22</th>\n",
       "      <td>9</td>\n",
       "      <td>40</td>\n",
       "      <td>F</td>\n",
       "      <td>Books</td>\n",
       "      <td>649.00</td>\n",
       "      <td>2023-02-26</td>\n",
       "    </tr>\n",
       "    <tr>\n",
       "      <th>23</th>\n",
       "      <td>5</td>\n",
       "      <td>25</td>\n",
       "      <td>F</td>\n",
       "      <td>Clothing</td>\n",
       "      <td>114.37</td>\n",
       "      <td>nan</td>\n",
       "    </tr>\n",
       "    <tr>\n",
       "      <th>24</th>\n",
       "      <td>18</td>\n",
       "      <td>19</td>\n",
       "      <td>F</td>\n",
       "      <td>nan</td>\n",
       "      <td>128.18</td>\n",
       "      <td>2023-04-30</td>\n",
       "    </tr>\n",
       "  </tbody>\n",
       "</table>\n",
       "</div>"
      ],
      "text/plain": [
       "   Customer_ID  Age Gender Product_Category  Purchase_Amount Purchase_Date\n",
       "20         19    41     F      Electronics            858.06   2023-05-07 \n",
       "21          3    32     F              nan            606.96   2023-01-15 \n",
       "22          9    40     F            Books            649.00   2023-02-26 \n",
       "23          5    25     F         Clothing            114.37          nan \n",
       "24         18    19     F              nan            128.18   2023-04-30 "
      ]
     },
     "execution_count": 4,
     "metadata": {},
     "output_type": "execute_result"
    }
   ],
   "source": [
    "data.tail()"
   ]
  },
  {
   "cell_type": "code",
   "execution_count": 5,
   "id": "21de454f-07f8-48c4-93c0-2881bc226f08",
   "metadata": {},
   "outputs": [
    {
     "data": {
      "text/plain": [
       "(25, 6)"
      ]
     },
     "execution_count": 5,
     "metadata": {},
     "output_type": "execute_result"
    }
   ],
   "source": [
    "data.shape"
   ]
  },
  {
   "cell_type": "code",
   "execution_count": 6,
   "id": "4cac2c53-6926-4274-a794-54eedf6ac192",
   "metadata": {},
   "outputs": [
    {
     "data": {
      "text/plain": [
       "array(['1 ', '2 ', '3 ', '4 ', '5 ', '6 ', '7 ', '8 ', '9 ', '10 ', '11 ',\n",
       "       '12 ', '13 ', '14 ', 'Unknown ', '16 ', '17 ', '18 ', '19 ', '20 '],\n",
       "      dtype=object)"
      ]
     },
     "execution_count": 6,
     "metadata": {},
     "output_type": "execute_result"
    }
   ],
   "source": [
    "data[\"Customer_ID\"].unique()\n",
    "# data.nunique()"
   ]
  },
  {
   "cell_type": "code",
   "execution_count": 7,
   "id": "f54109c5-c772-4ae1-b8f6-9ae7f24fde07",
   "metadata": {},
   "outputs": [
    {
     "name": "stdout",
     "output_type": "stream",
     "text": [
      "<class 'pandas.core.frame.DataFrame'>\n",
      "RangeIndex: 25 entries, 0 to 24\n",
      "Data columns (total 6 columns):\n",
      " #   Column            Non-Null Count  Dtype  \n",
      "---  ------            --------------  -----  \n",
      " 0   Customer_ID       25 non-null     object \n",
      " 1   Age               25 non-null     int64  \n",
      " 2   Gender            25 non-null     object \n",
      " 3   Product_Category  25 non-null     object \n",
      " 4   Purchase_Amount   25 non-null     float64\n",
      " 5   Purchase_Date     25 non-null     object \n",
      "dtypes: float64(1), int64(1), object(4)\n",
      "memory usage: 1.3+ KB\n"
     ]
    }
   ],
   "source": [
    "data.info()"
   ]
  },
  {
   "cell_type": "markdown",
   "id": "2243e89d-ee76-49b5-a54c-a992e8502b55",
   "metadata": {},
   "source": [
    "### check for data types"
   ]
  },
  {
   "cell_type": "code",
   "execution_count": 8,
   "id": "6e020f8a-dc07-47c2-8b1b-e04462dc3d2d",
   "metadata": {},
   "outputs": [
    {
     "data": {
      "text/plain": [
       "Customer_ID          object\n",
       "Age                   int64\n",
       "Gender               object\n",
       "Product_Category     object\n",
       "Purchase_Amount     float64\n",
       "Purchase_Date        object\n",
       "dtype: object"
      ]
     },
     "execution_count": 8,
     "metadata": {},
     "output_type": "execute_result"
    }
   ],
   "source": [
    "data.dtypes"
   ]
  },
  {
   "cell_type": "markdown",
   "id": "264308a0-7382-46e5-af38-27f518c678fa",
   "metadata": {},
   "source": [
    "### convert data types if necessary"
   ]
  },
  {
   "cell_type": "code",
   "execution_count": 9,
   "id": "37bf1fec-5bcd-480b-b2d4-56e4b82524f9",
   "metadata": {},
   "outputs": [],
   "source": [
    "data[\"Product_Category\"]=data[\"Product_Category\"].astype(\"string\")\n",
    "data[\"Gender\"]=data[\"Gender\"].astype(\"string\")"
   ]
  },
  {
   "cell_type": "code",
   "execution_count": 10,
   "id": "2de90a98-7d8a-49c1-9b09-cbef77564caa",
   "metadata": {},
   "outputs": [],
   "source": [
    "data['Customer_ID']= pd.to_numeric(data['Customer_ID'],errors='coerce')\n",
    "# used for understanding nun"
   ]
  },
  {
   "cell_type": "code",
   "execution_count": 11,
   "id": "887ff8d6-c8eb-41d1-8304-2f62597e48b8",
   "metadata": {},
   "outputs": [],
   "source": [
    "data['Purchase_Date']=pd.to_datetime(data['Purchase_Date'],errors='coerce')"
   ]
  },
  {
   "cell_type": "markdown",
   "id": "ad9b1997-e009-419e-b377-36c39b42d252",
   "metadata": {},
   "source": [
    "### Count unique values for categorical columns"
   ]
  },
  {
   "cell_type": "code",
   "execution_count": 12,
   "id": "6f79b1af-0a23-46c7-9e26-84d28e047b6c",
   "metadata": {},
   "outputs": [
    {
     "data": {
      "text/plain": [
       "Product_Category\n",
       "Home & Kitchen     7\n",
       "Books              6\n",
       "nan                4\n",
       "Clothing           4\n",
       "Electronics        4\n",
       "Name: count, dtype: Int64"
      ]
     },
     "execution_count": 12,
     "metadata": {},
     "output_type": "execute_result"
    }
   ],
   "source": [
    "data['Product_Category'].value_counts()"
   ]
  },
  {
   "cell_type": "markdown",
   "id": "23033ced-8b6f-4ea8-9549-4c2d231629d2",
   "metadata": {},
   "source": [
    "### checking for duplicate values"
   ]
  },
  {
   "cell_type": "code",
   "execution_count": 13,
   "id": "3a6bf592-e537-4910-9ab3-92f27e7ff715",
   "metadata": {},
   "outputs": [
    {
     "data": {
      "text/plain": [
       "np.int64(5)"
      ]
     },
     "execution_count": 13,
     "metadata": {},
     "output_type": "execute_result"
    }
   ],
   "source": [
    "data.duplicated().sum()"
   ]
  },
  {
   "cell_type": "code",
   "execution_count": 14,
   "id": "e65bb0d2-f8e3-43a8-a335-71f3d6d34625",
   "metadata": {},
   "outputs": [
    {
     "data": {
      "text/html": [
       "<div>\n",
       "<style scoped>\n",
       "    .dataframe tbody tr th:only-of-type {\n",
       "        vertical-align: middle;\n",
       "    }\n",
       "\n",
       "    .dataframe tbody tr th {\n",
       "        vertical-align: top;\n",
       "    }\n",
       "\n",
       "    .dataframe thead th {\n",
       "        text-align: right;\n",
       "    }\n",
       "</style>\n",
       "<table border=\"1\" class=\"dataframe\">\n",
       "  <thead>\n",
       "    <tr style=\"text-align: right;\">\n",
       "      <th></th>\n",
       "      <th>Customer_ID</th>\n",
       "      <th>Age</th>\n",
       "      <th>Gender</th>\n",
       "      <th>Product_Category</th>\n",
       "      <th>Purchase_Amount</th>\n",
       "      <th>Purchase_Date</th>\n",
       "    </tr>\n",
       "  </thead>\n",
       "  <tbody>\n",
       "    <tr>\n",
       "      <th>20</th>\n",
       "      <td>19.0</td>\n",
       "      <td>41</td>\n",
       "      <td>F</td>\n",
       "      <td>Electronics</td>\n",
       "      <td>858.06</td>\n",
       "      <td>2023-05-07</td>\n",
       "    </tr>\n",
       "    <tr>\n",
       "      <th>21</th>\n",
       "      <td>3.0</td>\n",
       "      <td>32</td>\n",
       "      <td>F</td>\n",
       "      <td>nan</td>\n",
       "      <td>606.96</td>\n",
       "      <td>2023-01-15</td>\n",
       "    </tr>\n",
       "    <tr>\n",
       "      <th>22</th>\n",
       "      <td>9.0</td>\n",
       "      <td>40</td>\n",
       "      <td>F</td>\n",
       "      <td>Books</td>\n",
       "      <td>649.00</td>\n",
       "      <td>2023-02-26</td>\n",
       "    </tr>\n",
       "    <tr>\n",
       "      <th>23</th>\n",
       "      <td>5.0</td>\n",
       "      <td>25</td>\n",
       "      <td>F</td>\n",
       "      <td>Clothing</td>\n",
       "      <td>114.37</td>\n",
       "      <td>NaT</td>\n",
       "    </tr>\n",
       "    <tr>\n",
       "      <th>24</th>\n",
       "      <td>18.0</td>\n",
       "      <td>19</td>\n",
       "      <td>F</td>\n",
       "      <td>nan</td>\n",
       "      <td>128.18</td>\n",
       "      <td>2023-04-30</td>\n",
       "    </tr>\n",
       "  </tbody>\n",
       "</table>\n",
       "</div>"
      ],
      "text/plain": [
       "    Customer_ID  Age Gender Product_Category  Purchase_Amount Purchase_Date\n",
       "20         19.0   41     F      Electronics            858.06    2023-05-07\n",
       "21          3.0   32     F              nan            606.96    2023-01-15\n",
       "22          9.0   40     F            Books            649.00    2023-02-26\n",
       "23          5.0   25     F         Clothing            114.37           NaT\n",
       "24         18.0   19     F              nan            128.18    2023-04-30"
      ]
     },
     "execution_count": 14,
     "metadata": {},
     "output_type": "execute_result"
    }
   ],
   "source": [
    "data[data.duplicated()]"
   ]
  },
  {
   "cell_type": "markdown",
   "id": "bab71c48-2b86-40df-b870-e673aee93248",
   "metadata": {},
   "source": [
    "### handling duplicate rows"
   ]
  },
  {
   "cell_type": "code",
   "execution_count": 15,
   "id": "3832b446-998b-4bd5-b4a9-06c0776ef746",
   "metadata": {},
   "outputs": [],
   "source": [
    "data= data.drop_duplicates()"
   ]
  },
  {
   "cell_type": "markdown",
   "id": "9c2dd724-a636-43b6-aada-df0a81dcd9d4",
   "metadata": {},
   "source": [
    "### check for missing values"
   ]
  },
  {
   "cell_type": "code",
   "execution_count": 16,
   "id": "96078428-2e6a-44b4-884b-7d3e64f19b53",
   "metadata": {},
   "outputs": [
    {
     "data": {
      "text/plain": [
       "Customer_ID         1\n",
       "Age                 0\n",
       "Gender              0\n",
       "Product_Category    0\n",
       "Purchase_Amount     0\n",
       "Purchase_Date       2\n",
       "dtype: int64"
      ]
     },
     "execution_count": 16,
     "metadata": {},
     "output_type": "execute_result"
    }
   ],
   "source": [
    "data.isnull().sum()"
   ]
  },
  {
   "cell_type": "code",
   "execution_count": 17,
   "id": "ed8a2a36-942f-407a-8dad-1b7bc67405c6",
   "metadata": {},
   "outputs": [
    {
     "data": {
      "text/html": [
       "<div>\n",
       "<style scoped>\n",
       "    .dataframe tbody tr th:only-of-type {\n",
       "        vertical-align: middle;\n",
       "    }\n",
       "\n",
       "    .dataframe tbody tr th {\n",
       "        vertical-align: top;\n",
       "    }\n",
       "\n",
       "    .dataframe thead th {\n",
       "        text-align: right;\n",
       "    }\n",
       "</style>\n",
       "<table border=\"1\" class=\"dataframe\">\n",
       "  <thead>\n",
       "    <tr style=\"text-align: right;\">\n",
       "      <th></th>\n",
       "      <th>Customer_ID</th>\n",
       "      <th>Age</th>\n",
       "      <th>Gender</th>\n",
       "      <th>Product_Category</th>\n",
       "      <th>Purchase_Amount</th>\n",
       "      <th>Purchase_Date</th>\n",
       "    </tr>\n",
       "  </thead>\n",
       "  <tbody>\n",
       "    <tr>\n",
       "      <th>14</th>\n",
       "      <td>NaN</td>\n",
       "      <td>41</td>\n",
       "      <td>M</td>\n",
       "      <td>Electronics</td>\n",
       "      <td>482.64</td>\n",
       "      <td>2023-04-09</td>\n",
       "    </tr>\n",
       "  </tbody>\n",
       "</table>\n",
       "</div>"
      ],
      "text/plain": [
       "    Customer_ID  Age Gender Product_Category  Purchase_Amount Purchase_Date\n",
       "14          NaN   41     M      Electronics            482.64    2023-04-09"
      ]
     },
     "execution_count": 17,
     "metadata": {},
     "output_type": "execute_result"
    }
   ],
   "source": [
    "data[data['Customer_ID'].isnull()]"
   ]
  },
  {
   "cell_type": "code",
   "execution_count": 18,
   "id": "4c500e1c-a7a0-4dd3-ba28-7035e9067983",
   "metadata": {},
   "outputs": [
    {
     "data": {
      "text/html": [
       "<div>\n",
       "<style scoped>\n",
       "    .dataframe tbody tr th:only-of-type {\n",
       "        vertical-align: middle;\n",
       "    }\n",
       "\n",
       "    .dataframe tbody tr th {\n",
       "        vertical-align: top;\n",
       "    }\n",
       "\n",
       "    .dataframe thead th {\n",
       "        text-align: right;\n",
       "    }\n",
       "</style>\n",
       "<table border=\"1\" class=\"dataframe\">\n",
       "  <thead>\n",
       "    <tr style=\"text-align: right;\">\n",
       "      <th></th>\n",
       "      <th>Customer_ID</th>\n",
       "      <th>Age</th>\n",
       "      <th>Gender</th>\n",
       "      <th>Product_Category</th>\n",
       "      <th>Purchase_Amount</th>\n",
       "      <th>Purchase_Date</th>\n",
       "    </tr>\n",
       "  </thead>\n",
       "  <tbody>\n",
       "    <tr>\n",
       "      <th>4</th>\n",
       "      <td>5.0</td>\n",
       "      <td>25</td>\n",
       "      <td>F</td>\n",
       "      <td>Clothing</td>\n",
       "      <td>114.37</td>\n",
       "      <td>NaT</td>\n",
       "    </tr>\n",
       "    <tr>\n",
       "      <th>7</th>\n",
       "      <td>8.0</td>\n",
       "      <td>36</td>\n",
       "      <td>F</td>\n",
       "      <td>Home &amp; Kitchen</td>\n",
       "      <td>714.94</td>\n",
       "      <td>NaT</td>\n",
       "    </tr>\n",
       "  </tbody>\n",
       "</table>\n",
       "</div>"
      ],
      "text/plain": [
       "   Customer_ID  Age Gender Product_Category  Purchase_Amount Purchase_Date\n",
       "4          5.0   25     F         Clothing            114.37           NaT\n",
       "7          8.0   36     F   Home & Kitchen            714.94           NaT"
      ]
     },
     "execution_count": 18,
     "metadata": {},
     "output_type": "execute_result"
    }
   ],
   "source": [
    "data[data['Purchase_Date'].isnull()]"
   ]
  },
  {
   "cell_type": "code",
   "execution_count": 19,
   "id": "ac05b667-d0ed-47eb-bc91-9befd45fcfbf",
   "metadata": {},
   "outputs": [
    {
     "name": "stderr",
     "output_type": "stream",
     "text": [
      "C:\\Users\\moham\\AppData\\Local\\Temp\\ipykernel_14828\\69086004.py:1: FutureWarning: A value is trying to be set on a copy of a DataFrame or Series through chained assignment using an inplace method.\n",
      "The behavior will change in pandas 3.0. This inplace method will never work because the intermediate object on which we are setting values always behaves as a copy.\n",
      "\n",
      "For example, when doing 'df[col].method(value, inplace=True)', try using 'df.method({col: value}, inplace=True)' or df[col] = df[col].method(value) instead, to perform the operation inplace on the original object.\n",
      "\n",
      "\n",
      "  data['Customer_ID'].fillna(15, inplace=True)\n"
     ]
    }
   ],
   "source": [
    "data['Customer_ID'].fillna(15, inplace=True)"
   ]
  },
  {
   "cell_type": "code",
   "execution_count": 20,
   "id": "1c54251e-1d85-4551-8d6d-69a14198b1a5",
   "metadata": {},
   "outputs": [
    {
     "name": "stdout",
     "output_type": "stream",
     "text": [
      "    Customer_ID  Age Gender Product_Category  Purchase_Amount Purchase_Date\n",
      "14         15.0   41     M      Electronics            482.64    2023-04-09\n"
     ]
    }
   ],
   "source": [
    "customer_details=data[data['Customer_ID']==15]\n",
    "print(customer_details)"
   ]
  },
  {
   "cell_type": "code",
   "execution_count": 21,
   "id": "cec8c720-8f53-4486-a0f9-46ece4771cba",
   "metadata": {},
   "outputs": [
    {
     "name": "stderr",
     "output_type": "stream",
     "text": [
      "C:\\Users\\moham\\AppData\\Local\\Temp\\ipykernel_14828\\3866182880.py:3: FutureWarning: A value is trying to be set on a copy of a DataFrame or Series through chained assignment using an inplace method.\n",
      "The behavior will change in pandas 3.0. This inplace method will never work because the intermediate object on which we are setting values always behaves as a copy.\n",
      "\n",
      "For example, when doing 'df[col].method(value, inplace=True)', try using 'df.method({col: value}, inplace=True)' or df[col] = df[col].method(value) instead, to perform the operation inplace on the original object.\n",
      "\n",
      "\n",
      "  data['Purchase_Date'].fillna('01-01-2000', inplace=True)\n"
     ]
    }
   ],
   "source": [
    "# data['Purchase_Date'].fillna(method='ffill', inplace=True)\n",
    "# data['Purchase_Date'].fillna(method='bfill', inplace=True)\n",
    "data['Purchase_Date'].fillna('01-01-2000', inplace=True)\n",
    "# data=data.dropna(subset=['Purchase_Date'])"
   ]
  },
  {
   "cell_type": "code",
   "execution_count": 22,
   "id": "c14932f7-4413-4e9f-841a-9ed705ee51fa",
   "metadata": {},
   "outputs": [
    {
     "data": {
      "text/html": [
       "<div>\n",
       "<style scoped>\n",
       "    .dataframe tbody tr th:only-of-type {\n",
       "        vertical-align: middle;\n",
       "    }\n",
       "\n",
       "    .dataframe tbody tr th {\n",
       "        vertical-align: top;\n",
       "    }\n",
       "\n",
       "    .dataframe thead th {\n",
       "        text-align: right;\n",
       "    }\n",
       "</style>\n",
       "<table border=\"1\" class=\"dataframe\">\n",
       "  <thead>\n",
       "    <tr style=\"text-align: right;\">\n",
       "      <th></th>\n",
       "      <th>Customer_ID</th>\n",
       "      <th>Age</th>\n",
       "      <th>Gender</th>\n",
       "      <th>Product_Category</th>\n",
       "      <th>Purchase_Amount</th>\n",
       "      <th>Purchase_Date</th>\n",
       "    </tr>\n",
       "  </thead>\n",
       "  <tbody>\n",
       "  </tbody>\n",
       "</table>\n",
       "</div>"
      ],
      "text/plain": [
       "Empty DataFrame\n",
       "Columns: [Customer_ID, Age, Gender, Product_Category, Purchase_Amount, Purchase_Date]\n",
       "Index: []"
      ]
     },
     "execution_count": 22,
     "metadata": {},
     "output_type": "execute_result"
    }
   ],
   "source": [
    "data[data['Gender'].isnull()]"
   ]
  },
  {
   "cell_type": "code",
   "execution_count": 23,
   "id": "dda31fb4-e1d2-441a-872e-4fb789c80061",
   "metadata": {},
   "outputs": [
    {
     "data": {
      "text/html": [
       "<div>\n",
       "<style scoped>\n",
       "    .dataframe tbody tr th:only-of-type {\n",
       "        vertical-align: middle;\n",
       "    }\n",
       "\n",
       "    .dataframe tbody tr th {\n",
       "        vertical-align: top;\n",
       "    }\n",
       "\n",
       "    .dataframe thead th {\n",
       "        text-align: right;\n",
       "    }\n",
       "</style>\n",
       "<table border=\"1\" class=\"dataframe\">\n",
       "  <thead>\n",
       "    <tr style=\"text-align: right;\">\n",
       "      <th></th>\n",
       "      <th>Customer_ID</th>\n",
       "      <th>Age</th>\n",
       "      <th>Gender</th>\n",
       "      <th>Product_Category</th>\n",
       "      <th>Purchase_Amount</th>\n",
       "      <th>Purchase_Date</th>\n",
       "    </tr>\n",
       "  </thead>\n",
       "  <tbody>\n",
       "    <tr>\n",
       "      <th>0</th>\n",
       "      <td>1.0</td>\n",
       "      <td>56</td>\n",
       "      <td>F</td>\n",
       "      <td>Books</td>\n",
       "      <td>111.94</td>\n",
       "      <td>2023-01-01</td>\n",
       "    </tr>\n",
       "    <tr>\n",
       "      <th>1</th>\n",
       "      <td>2.0</td>\n",
       "      <td>46</td>\n",
       "      <td>nan</td>\n",
       "      <td>Books</td>\n",
       "      <td>947.98</td>\n",
       "      <td>2023-01-08</td>\n",
       "    </tr>\n",
       "    <tr>\n",
       "      <th>2</th>\n",
       "      <td>3.0</td>\n",
       "      <td>32</td>\n",
       "      <td>F</td>\n",
       "      <td>nan</td>\n",
       "      <td>606.96</td>\n",
       "      <td>2023-01-15</td>\n",
       "    </tr>\n",
       "    <tr>\n",
       "      <th>3</th>\n",
       "      <td>4.0</td>\n",
       "      <td>60</td>\n",
       "      <td>F</td>\n",
       "      <td>Clothing</td>\n",
       "      <td>446.87</td>\n",
       "      <td>2023-01-22</td>\n",
       "    </tr>\n",
       "    <tr>\n",
       "      <th>4</th>\n",
       "      <td>5.0</td>\n",
       "      <td>25</td>\n",
       "      <td>F</td>\n",
       "      <td>Clothing</td>\n",
       "      <td>114.37</td>\n",
       "      <td>2000-01-01</td>\n",
       "    </tr>\n",
       "  </tbody>\n",
       "</table>\n",
       "</div>"
      ],
      "text/plain": [
       "   Customer_ID  Age Gender Product_Category  Purchase_Amount Purchase_Date\n",
       "0          1.0   56     F            Books            111.94    2023-01-01\n",
       "1          2.0   46   nan            Books            947.98    2023-01-08\n",
       "2          3.0   32     F              nan            606.96    2023-01-15\n",
       "3          4.0   60     F         Clothing            446.87    2023-01-22\n",
       "4          5.0   25     F         Clothing            114.37    2000-01-01"
      ]
     },
     "execution_count": 23,
     "metadata": {},
     "output_type": "execute_result"
    }
   ],
   "source": [
    "data.head()"
   ]
  },
  {
   "cell_type": "code",
   "execution_count": 24,
   "id": "51daea63-bac1-40f7-947a-53e5cbb5fdbc",
   "metadata": {},
   "outputs": [],
   "source": [
    "data['Gender']=data['Gender'].str.strip()"
   ]
  },
  {
   "cell_type": "code",
   "execution_count": 25,
   "id": "9bced1da-c49c-4ea3-8d4b-716b329620bf",
   "metadata": {},
   "outputs": [
    {
     "data": {
      "text/plain": [
       "Customer_ID         False\n",
       "Age                 False\n",
       "Gender              False\n",
       "Product_Category    False\n",
       "Purchase_Amount     False\n",
       "Purchase_Date       False\n",
       "dtype: bool"
      ]
     },
     "execution_count": 25,
     "metadata": {},
     "output_type": "execute_result"
    }
   ],
   "source": [
    "data.isnull().any()"
   ]
  },
  {
   "cell_type": "code",
   "execution_count": 26,
   "id": "61c65e27-48ca-4e50-8072-ed71e81b60d7",
   "metadata": {},
   "outputs": [
    {
     "name": "stdout",
     "output_type": "stream",
     "text": [
      "<StringArray>\n",
      "['F', 'nan', 'M']\n",
      "Length: 3, dtype: string\n"
     ]
    }
   ],
   "source": [
    "print(data['Gender'].unique())"
   ]
  },
  {
   "cell_type": "code",
   "execution_count": 27,
   "id": "be2380cf-e5f7-4f78-9c50-3f55f51664ae",
   "metadata": {},
   "outputs": [
    {
     "name": "stderr",
     "output_type": "stream",
     "text": [
      "C:\\Users\\moham\\AppData\\Local\\Temp\\ipykernel_14828\\932235705.py:1: FutureWarning: A value is trying to be set on a copy of a DataFrame or Series through chained assignment using an inplace method.\n",
      "The behavior will change in pandas 3.0. This inplace method will never work because the intermediate object on which we are setting values always behaves as a copy.\n",
      "\n",
      "For example, when doing 'df[col].method(value, inplace=True)', try using 'df.method({col: value}, inplace=True)' or df[col] = df[col].method(value) instead, to perform the operation inplace on the original object.\n",
      "\n",
      "\n",
      "  data['Gender'].replace('nan',pd.NA, inplace=True)\n"
     ]
    }
   ],
   "source": [
    "data['Gender'].replace('nan',pd.NA, inplace=True)"
   ]
  },
  {
   "cell_type": "code",
   "execution_count": 28,
   "id": "4ae3986e-ea1f-469e-ada2-d5a17e02dcf1",
   "metadata": {},
   "outputs": [
    {
     "name": "stderr",
     "output_type": "stream",
     "text": [
      "C:\\Users\\moham\\AppData\\Local\\Temp\\ipykernel_14828\\1697775467.py:1: FutureWarning: A value is trying to be set on a copy of a DataFrame or Series through chained assignment using an inplace method.\n",
      "The behavior will change in pandas 3.0. This inplace method will never work because the intermediate object on which we are setting values always behaves as a copy.\n",
      "\n",
      "For example, when doing 'df[col].method(value, inplace=True)', try using 'df.method({col: value}, inplace=True)' or df[col] = df[col].method(value) instead, to perform the operation inplace on the original object.\n",
      "\n",
      "\n",
      "  data['Gender'].fillna('unknown', inplace=True)\n"
     ]
    }
   ],
   "source": [
    "data['Gender'].fillna('unknown', inplace=True)"
   ]
  },
  {
   "cell_type": "code",
   "execution_count": 29,
   "id": "8e65d23e-9b69-4ca0-bb88-802e2d82ad55",
   "metadata": {},
   "outputs": [
    {
     "data": {
      "text/html": [
       "<div>\n",
       "<style scoped>\n",
       "    .dataframe tbody tr th:only-of-type {\n",
       "        vertical-align: middle;\n",
       "    }\n",
       "\n",
       "    .dataframe tbody tr th {\n",
       "        vertical-align: top;\n",
       "    }\n",
       "\n",
       "    .dataframe thead th {\n",
       "        text-align: right;\n",
       "    }\n",
       "</style>\n",
       "<table border=\"1\" class=\"dataframe\">\n",
       "  <thead>\n",
       "    <tr style=\"text-align: right;\">\n",
       "      <th></th>\n",
       "      <th>Customer_ID</th>\n",
       "      <th>Age</th>\n",
       "      <th>Gender</th>\n",
       "      <th>Product_Category</th>\n",
       "      <th>Purchase_Amount</th>\n",
       "      <th>Purchase_Date</th>\n",
       "    </tr>\n",
       "  </thead>\n",
       "  <tbody>\n",
       "  </tbody>\n",
       "</table>\n",
       "</div>"
      ],
      "text/plain": [
       "Empty DataFrame\n",
       "Columns: [Customer_ID, Age, Gender, Product_Category, Purchase_Amount, Purchase_Date]\n",
       "Index: []"
      ]
     },
     "execution_count": 29,
     "metadata": {},
     "output_type": "execute_result"
    }
   ],
   "source": [
    "data[data['Product_Category'].isnull()]"
   ]
  },
  {
   "cell_type": "code",
   "execution_count": 30,
   "id": "daa427bb-4f90-4ae1-ab29-b5ecd00b62f0",
   "metadata": {},
   "outputs": [],
   "source": [
    "data=data.dropna()"
   ]
  },
  {
   "cell_type": "code",
   "execution_count": 31,
   "id": "fed1a56f-0314-4582-8f5a-3ce6fd1874ba",
   "metadata": {},
   "outputs": [
    {
     "name": "stderr",
     "output_type": "stream",
     "text": [
      "C:\\Users\\moham\\AppData\\Local\\Temp\\ipykernel_14828\\3683867389.py:1: FutureWarning: A value is trying to be set on a copy of a DataFrame or Series through chained assignment using an inplace method.\n",
      "The behavior will change in pandas 3.0. This inplace method will never work because the intermediate object on which we are setting values always behaves as a copy.\n",
      "\n",
      "For example, when doing 'df[col].method(value, inplace=True)', try using 'df.method({col: value}, inplace=True)' or df[col] = df[col].method(value) instead, to perform the operation inplace on the original object.\n",
      "\n",
      "\n",
      "  data['Product_Category'].replace('nan', pd.NA, inplace=True)\n"
     ]
    }
   ],
   "source": [
    "data['Product_Category'].replace('nan', pd.NA, inplace=True)"
   ]
  },
  {
   "cell_type": "code",
   "execution_count": 32,
   "id": "b6cc0f07-524e-49b5-a21c-86dac5e53012",
   "metadata": {},
   "outputs": [
    {
     "name": "stdout",
     "output_type": "stream",
     "text": [
      "<StringArray>\n",
      "['Books ', 'nan ', 'Clothing ', 'Home & Kitchen ', 'Electronics ']\n",
      "Length: 5, dtype: string\n"
     ]
    }
   ],
   "source": [
    "print(data['Product_Category'].unique())"
   ]
  },
  {
   "cell_type": "code",
   "execution_count": 33,
   "id": "f678e684-2e28-4534-b500-623cd3dc3ad0",
   "metadata": {},
   "outputs": [],
   "source": [
    "data['Product_Category']=data['Product_Category'].str.strip()"
   ]
  },
  {
   "cell_type": "markdown",
   "id": "bc0da949-463b-4300-a7bd-60c00514a472",
   "metadata": {},
   "source": [
    "### identifying and replacing Empty or incorrect values"
   ]
  },
  {
   "cell_type": "code",
   "execution_count": 34,
   "id": "1ef046a7-efa0-4bbc-aba9-2cae822efb65",
   "metadata": {},
   "outputs": [
    {
     "name": "stdout",
     "output_type": "stream",
     "text": [
      "Customer_ID         0\n",
      "Age                 0\n",
      "Gender              0\n",
      "Product_Category    0\n",
      "Purchase_Amount     0\n",
      "Purchase_Date       0\n",
      "dtype: Int64\n",
      "Customer_ID         0\n",
      "Age                 0\n",
      "Gender              0\n",
      "Product_Category    0\n",
      "Purchase_Amount     0\n",
      "Purchase_Date       0\n",
      "dtype: Int64\n",
      "Customer_ID         0\n",
      "Age                 0\n",
      "Gender              0\n",
      "Product_Category    0\n",
      "Purchase_Amount     0\n",
      "Purchase_Date       0\n",
      "dtype: Int64\n"
     ]
    }
   ],
   "source": [
    "print((data == \"\").sum()) #counts empty strings in each column\n",
    "print((data == \"NaN\").sum()) #counts string \"Nan\"\n",
    "print((data == \"None\").sum()) #counts string 'None'"
   ]
  },
  {
   "cell_type": "code",
   "execution_count": 35,
   "id": "81b47718-2e5a-49fe-9f75-2123e785af82",
   "metadata": {},
   "outputs": [
    {
     "data": {
      "text/html": [
       "<div>\n",
       "<style scoped>\n",
       "    .dataframe tbody tr th:only-of-type {\n",
       "        vertical-align: middle;\n",
       "    }\n",
       "\n",
       "    .dataframe tbody tr th {\n",
       "        vertical-align: top;\n",
       "    }\n",
       "\n",
       "    .dataframe thead th {\n",
       "        text-align: right;\n",
       "    }\n",
       "</style>\n",
       "<table border=\"1\" class=\"dataframe\">\n",
       "  <thead>\n",
       "    <tr style=\"text-align: right;\">\n",
       "      <th></th>\n",
       "      <th>Customer_ID</th>\n",
       "      <th>Age</th>\n",
       "      <th>Purchase_Amount</th>\n",
       "      <th>Purchase_Date</th>\n",
       "    </tr>\n",
       "  </thead>\n",
       "  <tbody>\n",
       "    <tr>\n",
       "      <th>count</th>\n",
       "      <td>20.00000</td>\n",
       "      <td>20.000000</td>\n",
       "      <td>20.000000</td>\n",
       "      <td>20</td>\n",
       "    </tr>\n",
       "    <tr>\n",
       "      <th>mean</th>\n",
       "      <td>10.50000</td>\n",
       "      <td>40.850000</td>\n",
       "      <td>484.511000</td>\n",
       "      <td>2020-11-14 13:12:00</td>\n",
       "    </tr>\n",
       "    <tr>\n",
       "      <th>min</th>\n",
       "      <td>1.00000</td>\n",
       "      <td>19.000000</td>\n",
       "      <td>111.940000</td>\n",
       "      <td>2000-01-01 00:00:00</td>\n",
       "    </tr>\n",
       "    <tr>\n",
       "      <th>25%</th>\n",
       "      <td>5.75000</td>\n",
       "      <td>31.000000</td>\n",
       "      <td>281.365000</td>\n",
       "      <td>2023-01-20 06:00:00</td>\n",
       "    </tr>\n",
       "    <tr>\n",
       "      <th>50%</th>\n",
       "      <td>10.50000</td>\n",
       "      <td>40.500000</td>\n",
       "      <td>467.295000</td>\n",
       "      <td>2023-03-08 12:00:00</td>\n",
       "    </tr>\n",
       "    <tr>\n",
       "      <th>75%</th>\n",
       "      <td>15.25000</td>\n",
       "      <td>53.750000</td>\n",
       "      <td>665.485000</td>\n",
       "      <td>2023-04-10 18:00:00</td>\n",
       "    </tr>\n",
       "    <tr>\n",
       "      <th>max</th>\n",
       "      <td>20.00000</td>\n",
       "      <td>61.000000</td>\n",
       "      <td>947.980000</td>\n",
       "      <td>2023-05-14 00:00:00</td>\n",
       "    </tr>\n",
       "    <tr>\n",
       "      <th>std</th>\n",
       "      <td>5.91608</td>\n",
       "      <td>13.128013</td>\n",
       "      <td>260.661678</td>\n",
       "      <td>NaN</td>\n",
       "    </tr>\n",
       "  </tbody>\n",
       "</table>\n",
       "</div>"
      ],
      "text/plain": [
       "       Customer_ID        Age  Purchase_Amount        Purchase_Date\n",
       "count     20.00000  20.000000        20.000000                   20\n",
       "mean      10.50000  40.850000       484.511000  2020-11-14 13:12:00\n",
       "min        1.00000  19.000000       111.940000  2000-01-01 00:00:00\n",
       "25%        5.75000  31.000000       281.365000  2023-01-20 06:00:00\n",
       "50%       10.50000  40.500000       467.295000  2023-03-08 12:00:00\n",
       "75%       15.25000  53.750000       665.485000  2023-04-10 18:00:00\n",
       "max       20.00000  61.000000       947.980000  2023-05-14 00:00:00\n",
       "std        5.91608  13.128013       260.661678                  NaN"
      ]
     },
     "execution_count": 35,
     "metadata": {},
     "output_type": "execute_result"
    }
   ],
   "source": [
    "data.describe()"
   ]
  },
  {
   "cell_type": "markdown",
   "id": "4c82200a-4683-4d95-b707-90fac19088c7",
   "metadata": {},
   "source": [
    "### visualizing age distribution"
   ]
  },
  {
   "cell_type": "code",
   "execution_count": 36,
   "id": "b8efe0d1-f09f-4235-a26b-7c2174d617eb",
   "metadata": {},
   "outputs": [
    {
     "data": {
      "image/png": "[encoded data removed]",
      "text/plain": [
       "<Figure size 800x500 with 1 Axes>"
      ]
     },
     "metadata": {},
     "output_type": "display_data"
    }
   ],
   "source": [
    "plt.figure(figsize=(8,5))\n",
    "sns.histplot(data['Age'],bins=10,kde=True,color='blue')\n",
    "plt.title('Age Distribution')\n",
    "plt.show()"
   ]
  },
  {
   "cell_type": "code",
   "execution_count": 37,
   "id": "00a69cd1-014a-4378-8380-150a4c505fe3",
   "metadata": {},
   "outputs": [],
   "source": [
    "data['Age_Group']=pd.cut(data['Age'],bins=[18,30,40,50,60,79],\n",
    "                         labels=['18-30', '30-40', '40-50', '50-60', '60-70'])"
   ]
  },
  {
   "cell_type": "markdown",
   "id": "7c95171f-0ad9-4a9d-99d1-f1f7f92b8311",
   "metadata": {},
   "source": [
    "### extracting purchase date components"
   ]
  },
  {
   "cell_type": "code",
   "execution_count": 38,
   "id": "d9a0c885-9272-44d9-934a-21b73ddaa889",
   "metadata": {},
   "outputs": [],
   "source": [
    "data['Purchase_Month']=data['Purchase_Date'].dt.month\n",
    "data['Purchase_Year']=data['Purchase_Date'].dt.year"
   ]
  },
  {
   "cell_type": "markdown",
   "id": "8c5a8a2a-aa9e-474f-a5c1-7de6637d1ca0",
   "metadata": {},
   "source": [
    "### gender distribution visualisation"
   ]
  },
  {
   "cell_type": "code",
   "execution_count": 39,
   "id": "6bc208f3-54e3-4d26-9352-cf6082896a57",
   "metadata": {},
   "outputs": [
    {
     "data": {
      "image/png": "[encoded data removed]",
      "text/plain": [
       "<Figure size 640x480 with 1 Axes>"
      ]
     },
     "metadata": {},
     "output_type": "display_data"
    }
   ],
   "source": [
    "sns.countplot(data=data, x='Gender')\n",
    "plt.title('Gender Distribution')\n",
    "plt.show()"
   ]
  },
  {
   "cell_type": "markdown",
   "id": "bcef7f96-e184-409e-a383-79d75b8d93d0",
   "metadata": {},
   "source": [
    "### purchase amount distribution"
   ]
  },
  {
   "cell_type": "code",
   "execution_count": 40,
   "id": "2ece8e70-ca6a-4855-83d6-e0c108f175ca",
   "metadata": {},
   "outputs": [
    {
     "data": {
      "image/png": "[encoded data removed]",
      "text/plain": [
       "<Figure size 640x480 with 1 Axes>"
      ]
     },
     "metadata": {},
     "output_type": "display_data"
    }
   ],
   "source": [
    "sns.histplot(data['Purchase_Amount'],bins=10,kde=True)\n",
    "plt.title('Distribution of Purchase Amount')\n",
    "plt.show()"
   ]
  },
  {
   "cell_type": "markdown",
   "id": "72ecdedb-8283-4f8e-906a-213f292a0a3f",
   "metadata": {},
   "source": [
    "### category wise average purchase analysis"
   ]
  },
  {
   "cell_type": "code",
   "execution_count": 41,
   "id": "1cb86484-031f-4693-92ed-9bdffa8fc4ca",
   "metadata": {},
   "outputs": [
    {
     "data": {
      "image/png": "[encoded data removed]",
      "text/plain": [
       "<Figure size 640x480 with 1 Axes>"
      ]
     },
     "metadata": {},
     "output_type": "display_data"
    }
   ],
   "source": [
    "category_avg = data.groupby('Product_Category')['Purchase_Amount'].mean().sort_values()\n",
    "\n",
    "sns.barplot(x=category_avg.index, y=category_avg.values)\n",
    "plt.title('Category-Wise Average Purchase')\n",
    "plt.xticks(rotation=45)\n",
    "plt.show()"
   ]
  },
  {
   "cell_type": "markdown",
   "id": "2b6ecbe7-1a5b-473a-9de3-49c2f34f7f35",
   "metadata": {},
   "source": [
    "### identifying outliers in purchase amount"
   ]
  },
  {
   "cell_type": "code",
   "execution_count": 42,
   "id": "dea8c163-dbb6-4249-8bae-31c21db901f3",
   "metadata": {},
   "outputs": [
    {
     "data": {
      "image/png": "[encoded data removed]",
      "text/plain": [
       "<Figure size 640x480 with 1 Axes>"
      ]
     },
     "metadata": {},
     "output_type": "display_data"
    }
   ],
   "source": [
    "sns.boxplot(data=data, x='Age_Group', y='Purchase_Amount')\n",
    "plt.title('Purchase Amount by Age Group')\n",
    "plt.show()"
   ]
  },
  {
   "cell_type": "markdown",
   "id": "e63b6780-72de-4337-8d4e-f44b1d3bb557",
   "metadata": {},
   "source": [
    "### monthly purchase trend analysis"
   ]
  },
  {
   "cell_type": "code",
   "execution_count": 43,
   "id": "65763903-4bde-49c9-a99f-6fb8319241ed",
   "metadata": {},
   "outputs": [
    {
     "data": {
      "image/png": "[encoded data removed]",
      "text/plain": [
       "<Figure size 640x480 with 1 Axes>"
      ]
     },
     "metadata": {},
     "output_type": "display_data"
    }
   ],
   "source": [
    "monthly_trend= data.groupby('Purchase_Month')['Purchase_Amount'].sum()\n",
    "\n",
    "sns.lineplot(x=monthly_trend.index, y=monthly_trend.values)\n",
    "plt.title('Monthly Purchase Trend')\n",
    "plt.show()"
   ]
  },
  {
   "cell_type": "code",
   "execution_count": 46,
   "id": "b30e583c-b7da-49b7-8d41-8239620605fc",
   "metadata": {},
   "outputs": [
    {
     "data": {
      "image/png": "[encoded data removed]",
      "text/plain": [
       "<Figure size 640x480 with 1 Axes>"
      ]
     },
     "metadata": {},
     "output_type": "display_data"
    }
   ],
   "source": [
    "sns.boxplot(data['Purchase_Amount'])\n",
    "plt.title('Outliers in Purchase Amount')\n",
    "plt.show()"
   ]
  },
  {
   "cell_type": "code",
   "execution_count": 49,
   "id": "f538b5d0-92be-4ad8-bc8a-2c464d4f967b",
   "metadata": {},
   "outputs": [],
   "source": [
    "Q1 =data['Purchase_Amount'].quantile(0.25)\n",
    "Q3 =data['Purchase_Amount'].quantile(0.75)\n",
    "IQR =Q3-Q1\n",
    "\n",
    "# remove outliers\n",
    "data = data[(data['Purchase_Amount'] >= Q1 - 1.5 * IQR) &\n",
    "            (data['Purchase_Amount'] <= Q3 + 1.5 * IQR)]\n",
    "\n"
   ]
  },
  {
   "cell_type": "code",
   "execution_count": null,
   "id": "c45c0574-e32e-4226-9159-5537c74550a6",
   "metadata": {},
   "outputs": [],
   "source": []
  }
 ],
 "metadata": {
  "kernelspec": {
   "display_name": "Python 3 (ipykernel)",
   "language": "python",
   "name": "python3"
  },
  "language_info": {
   "codemirror_mode": {
    "name": "ipython",
    "version": 3
   },
   "file_extension": ".py",
   "mimetype": "text/x-python",
   "name": "python",
   "nbconvert_exporter": "python",
   "pygments_lexer": "ipython3",
   "version": "3.13.2"
  }
 },
 "nbformat": 4,
 "nbformat_minor": 5
}
